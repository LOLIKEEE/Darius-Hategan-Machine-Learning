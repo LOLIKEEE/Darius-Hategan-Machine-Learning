{
 "cells": [
  {
   "cell_type": "code",
   "execution_count": 17,
   "metadata": {
    "collapsed": true
   },
   "outputs": [],
   "source": [
    "from PIL import Image\n",
    "import numpy as np\n",
    "\n",
    "def rgb_to_int(r,g,b):\n",
    "    return (r<<16) + (g<<8) + b\n",
    "\n",
    "def read_data(filename):\n",
    "    x = []\n",
    "    y = []\n",
    "    back_color = rgb_to_int(255,255,255)\n",
    "    \n",
    "    image = Image.open(filename)\n",
    "    col,row = image.size\n",
    "    pixels = image.load()\n",
    "\n",
    "    for i in range(row):\n",
    "        for j in range(col):\n",
    "            r,g,b = pixels[i,j]\n",
    "            color = rgb_to_int(r,g,b)\n",
    "            \n",
    "            if (color != back_color):\n",
    "                x.append([i,j])\n",
    "                y.append(color)\n",
    "    return x,y\n",
    "\n",
    "x,y = read_data(\"inputPicture.png\")"
   ]
  },
  {
   "cell_type": "code",
   "execution_count": 18,
   "metadata": {
    "collapsed": false
   },
   "outputs": [
    {
     "data": {
      "text/plain": [
       "SVC(C=1.0, cache_size=200, class_weight=None, coef0=0.0,\n",
       "  decision_function_shape=None, degree=3, gamma='auto', kernel='rbf',\n",
       "  max_iter=-1, probability=False, random_state=None, shrinking=True,\n",
       "  tol=0.001, verbose=False)"
      ]
     },
     "execution_count": 18,
     "metadata": {},
     "output_type": "execute_result"
    }
   ],
   "source": [
    "from sklearn import svm\n",
    "from sklearn.cross_validation import train_test_split\n",
    "\n",
    "clf = svm.SVC(C=1.0, cache_size=200, class_weight=None, coef0=0.0,\n",
    "  decision_function_shape=None, degree=3, gamma='auto', kernel='rbf',\n",
    "  max_iter=-1, probability=False, random_state=None, shrinking=True,             \n",
    "  tol=0.001, verbose=False)\n",
    "\n",
    "x_train, x_test, y_train, y_test = train_test_split(x, y, test_size=0.2)\n",
    "clf.fit(x_train, y_train)  \n"
   ]
  },
  {
   "cell_type": "code",
   "execution_count": null,
   "metadata": {
    "collapsed": false
   },
   "outputs": [
    {
     "data": {
      "text/plain": [
       "0.11563367252543941"
      ]
     },
     "execution_count": 19,
     "metadata": {},
     "output_type": "execute_result"
    }
   ],
   "source": [
    "rezultat=clf.predict(x_test)\n",
    "from sklearn.metrics import accuracy_score\n",
    "accuracy_score(y_test,rezultat)"
   ]
  },
  {
   "cell_type": "code",
   "execution_count": null,
   "metadata": {
    "collapsed": true
   },
   "outputs": [],
   "source": [
    "def getRGBfromI(RGBint):#convert int color code to rgb color code\n",
    "    blue =  RGBint & 255\n",
    "    green = (RGBint >> 8) & 255\n",
    "    red =   (RGBint >> 16) & 255\n",
    "    return red, green, blue\n",
    "\n",
    "\n",
    "def save_data(width, height, pixels, colors):\n",
    "    \n",
    "    im = Image.new(\"RGB\", (width, height))\n",
    "    pix = im.load()\n",
    "    for i in range(len(pixels)):\n",
    "             pix[pixels[i][0],pixels[i][1]] = getRGBfromI(colors[i])\n",
    "\n",
    "    im.save(\"test.png\", \"PNG\")    \n",
    "    \n",
    "points = []\n",
    "for i in range (200): #this is hardcoded\n",
    "    for j in range(200):\n",
    "        points.append([i,j])\n",
    "\n",
    "pred_colors = clf.predict(points)\n",
    "\n",
    "save_data(200,200,x_test,rezultat)"
   ]
  },
  {
   "cell_type": "code",
   "execution_count": null,
   "metadata": {
    "collapsed": true
   },
   "outputs": [],
   "source": [
    "from PIL import Image\n",
    "import numpy as np\n",
    "\n",
    "def rgb_to_int(r,g,b):\n",
    "    return (r<<16) + (g<<8) + b\n",
    "\n",
    "def read_data(filename):\n",
    "    x = []\n",
    "    y = []\n",
    "    back_color = rgb_to_int(255,255,255)\n",
    "    \n",
    "    image = Image.open(filename)\n",
    "    col,row = image.size\n",
    "    pixels = image.load()\n",
    "\n",
    "    for i in range(row):\n",
    "        for j in range(col):\n",
    "            r,g,b = pixels[i,j]\n",
    "            color = rgb_to_int(r,g,b)\n",
    "            \n",
    "            if (color != back_color):\n",
    "                x.append([i,j])\n",
    "                y.append(color)\n",
    "    return x,y\n",
    "\n",
    "x,y = read_data(\"inputPicture.png\")\n",
    "\n",
    "\n",
    "\n",
    "from sklearn import svm\n",
    "from sklearn.cross_validation import train_test_split\n",
    "\n",
    "clf = svm.SVC(C=1.0, cache_size=200, class_weight=None, coef0=0.0,\n",
    "  decision_function_shape=None, degree=3, gamma='auto', kernel='rbf',\n",
    "  max_iter=-1, probability=False, random_state=None, shrinking=True,             \n",
    "  tol=0.001, verbose=False)\n",
    "\n",
    "x_train, x_test, y_train, y_test = train_test_split(x, y, test_size=0.3)\n",
    "clf.fit(x_train, y_train)  \n",
    "\n",
    "\n",
    "rezultat=clf.predict(x_test)\n",
    "from sklearn.metrics import accuracy_score\n",
    "accuracy_score(y_test,rezultat)\n",
    "def getRGBfromI(RGBint):#convert int color code to rgb color code\n",
    "    blue =  RGBint & 255\n",
    "    green = (RGBint >> 8) & 255\n",
    "    red =   (RGBint >> 16) & 255\n",
    "    return red, green, blue\n",
    "\n",
    "\n",
    "def save_data(width, height, pixels, colors):\n",
    "    \n",
    "    im = Image.new(\"RGB\", (width, height))\n",
    "    pix = im.load()\n",
    "    for i in range(len(pixels)):\n",
    "             pix[pixels[i][0],pixels[i][1]] = getRGBfromI(colors[i])\n",
    "\n",
    "    im.save(\"test2.png\", \"PNG\")    \n",
    "    \n",
    "points = []\n",
    "for i in range (200): #this is hardcoded\n",
    "    for j in range(200):\n",
    "        points.append([i,j])\n",
    "\n",
    "pred_colors = clf.predict(points)\n",
    "\n",
    "save_data(200,200,x_test,rezultat)"
   ]
  },
  {
   "cell_type": "code",
   "execution_count": null,
   "metadata": {
    "collapsed": true
   },
   "outputs": [],
   "source": []
  }
 ],
 "metadata": {
  "kernelspec": {
   "display_name": "Python 3",
   "language": "python",
   "name": "python3"
  },
  "language_info": {
   "codemirror_mode": {
    "name": "ipython",
    "version": 3
   },
   "file_extension": ".py",
   "mimetype": "text/x-python",
   "name": "python",
   "nbconvert_exporter": "python",
   "pygments_lexer": "ipython3",
   "version": "3.6.0"
  }
 },
 "nbformat": 4,
 "nbformat_minor": 2
}
